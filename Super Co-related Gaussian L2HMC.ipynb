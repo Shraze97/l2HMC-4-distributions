{
 "cells": [
  {
   "cell_type": "code",
   "execution_count": 1,
   "metadata": {},
   "outputs": [
    {
     "name": "stdout",
     "output_type": "stream",
     "text": [
      "WARNING:tensorflow:From C:\\Users\\91920\\anaconda3\\envs\\tf-gpu\\lib\\site-packages\\tensorflow\\python\\compat\\v2_compat.py:96: disable_resource_variables (from tensorflow.python.ops.variable_scope) is deprecated and will be removed in a future version.\n",
      "Instructions for updating:\n",
      "non-resource variables are not supported in the long term\n"
     ]
    }
   ],
   "source": [
    "import tensorflow as tf\n",
    "import numpy as np\n",
    "import matplotlib.pyplot as plt\n",
    "%matplotlib inline\n",
    "%load_ext autoreload\n",
    "%autoreload 2\n",
    "import tensorflow.compat.v1 as tf\n",
    "tf.disable_v2_behavior()"
   ]
  },
  {
   "cell_type": "code",
   "execution_count": 2,
   "metadata": {},
   "outputs": [
    {
     "name": "stderr",
     "output_type": "stream",
     "text": [
      "WARNING:absl:Warning: Setting shuffle_files=True because split=TRAIN and shuffle_files=None. This behavior will be deprecated on 2019-08-06, at which point shuffle_files=False will be the default for all splits.\n"
     ]
    }
   ],
   "source": [
    "from utils.func_utils import accept, jacobian, autocovariance, get_log_likelihood, \\\n",
    "    get_data, binarize, normal_kl, acl_spectrum, ESS\n",
    "from utils.dynamics import Dynamics\n",
    "from utils.distributions import Gaussian, GMM, GaussianFunnel, gen_ring\n",
    "from utils.layers import Linear, Sequential, Zip, Parallel, ScaleTanh\n",
    "from utils.dynamics import Dynamics\n",
    "from utils.sampler import propose\n",
    "from utils.notebook_utils import get_hmc_samples"
   ]
  },
  {
   "cell_type": "code",
   "execution_count": 3,
   "metadata": {},
   "outputs": [],
   "source": [
    "def network(x_dim, scope, factor):\n",
    "    with tf.variable_scope(scope):\n",
    "        net = Sequential([\n",
    "            Zip([\n",
    "                Linear(x_dim, 10, scope='embed_1', factor=1.0 / 3),\n",
    "                Linear(x_dim, 10, scope='embed_2', factor=factor * 1.0 / 3),\n",
    "                Linear(2, 10, scope='embed_3', factor=1.0 / 3),\n",
    "                lambda _: 0.,\n",
    "            ]),\n",
    "            sum,\n",
    "            tf.nn.relu,\n",
    "            Linear(10, 10, scope='linear_1'),\n",
    "            tf.nn.relu,\n",
    "            Parallel([\n",
    "                Sequential([\n",
    "                    Linear(10, x_dim, scope='linear_s', factor=0.001), \n",
    "                    ScaleTanh(x_dim, scope='scale_s')\n",
    "                ]),\n",
    "                Linear(10, x_dim, scope='linear_t', factor=0.001),\n",
    "                Sequential([\n",
    "                    Linear(10, x_dim, scope='linear_f', factor=0.001),\n",
    "                    ScaleTanh(x_dim, scope='scale_f'),\n",
    "                ])\n",
    "            ])  \n",
    "        ])\n",
    "        \n",
    "    return net"
   ]
  },
  {
   "cell_type": "code",
   "execution_count": 4,
   "metadata": {},
   "outputs": [
    {
     "name": "stdout",
     "output_type": "stream",
     "text": [
      "9.999999999999705 float64\n",
      "WARNING:tensorflow:From C:\\Users\\91920\\l2hmc-master\\utils\\layers.py:17: calling VarianceScaling.__init__ (from tensorflow.python.ops.init_ops) with dtype is deprecated and will be removed in a future version.\n",
      "Instructions for updating:\n",
      "Call initializer instance with the dtype argument instead of passing it to the constructor\n"
     ]
    },
    {
     "name": "stderr",
     "output_type": "stream",
     "text": [
      "WARNING:tensorflow:From C:\\Users\\91920\\l2hmc-master\\utils\\layers.py:17: calling VarianceScaling.__init__ (from tensorflow.python.ops.init_ops) with dtype is deprecated and will be removed in a future version.\n",
      "Instructions for updating:\n",
      "Call initializer instance with the dtype argument instead of passing it to the constructor\n"
     ]
    },
    {
     "name": "stdout",
     "output_type": "stream",
     "text": [
      "WARNING:tensorflow:From C:\\Users\\91920\\l2hmc-master\\utils\\layers.py:19: calling Constant.__init__ (from tensorflow.python.ops.init_ops) with dtype is deprecated and will be removed in a future version.\n",
      "Instructions for updating:\n",
      "Call initializer instance with the dtype argument instead of passing it to the constructor\n"
     ]
    },
    {
     "name": "stderr",
     "output_type": "stream",
     "text": [
      "WARNING:tensorflow:From C:\\Users\\91920\\l2hmc-master\\utils\\layers.py:19: calling Constant.__init__ (from tensorflow.python.ops.init_ops) with dtype is deprecated and will be removed in a future version.\n",
      "Instructions for updating:\n",
      "Call initializer instance with the dtype argument instead of passing it to the constructor\n"
     ]
    }
   ],
   "source": [
    "x_dim = 2\n",
    "mu = np.zeros(2,)\n",
    "cov = np.array([[50.05, -49.95], [-49.95, 50.05]])\n",
    "\n",
    "distribution = Gaussian(mu, cov)\n",
    "dynamics = Dynamics(x_dim, distribution.get_energy_function(), T=10, eps=0.1, net_factory=network)"
   ]
  },
  {
   "cell_type": "code",
   "execution_count": 5,
   "metadata": {},
   "outputs": [
    {
     "data": {
      "image/png": "[encoded data removed]",
      "text/plain": [
       "<Figure size 432x288 with 1 Axes>"
      ]
     },
     "metadata": {
      "needs_background": "light"
     },
     "output_type": "display_data"
    }
   ],
   "source": [
    "S = distribution.get_samples(200)\n",
    "plt.title('Strongly Correlated Gaussian (SCG)')\n",
    "plt.scatter(S[:, 0], S[:, 1])\n",
    "plt.show()"
   ]
  },
  {
   "cell_type": "code",
   "execution_count": 6,
   "metadata": {},
   "outputs": [],
   "source": [
    "\n",
    "x = tf.placeholder(tf.float32, shape=(None, x_dim))\n",
    "z = tf.random_normal(tf.shape(x))\n",
    "\n",
    "Lx, _, px, output = propose(x, dynamics, do_mh_step=True)\n",
    "Lz, _, pz, _ = propose(z, dynamics, do_mh_step=False)\n",
    "\n",
    "loss = 0.\n",
    "\n",
    "v1 = (tf.reduce_sum(tf.square(x - Lx), axis=1) * px) + 1e-4\n",
    "v2 = (tf.reduce_sum(tf.square(z - Lz), axis=1) * pz) + 1e-4\n",
    "scale = 0.1\n",
    "\n",
    "loss += scale * (tf.reduce_mean(1.0 / v1) + tf.reduce_mean(1.0 / v2))\n",
    "loss += (- tf.reduce_mean(v1) - tf.reduce_mean(v2)) / scale"
   ]
  },
  {
   "cell_type": "code",
   "execution_count": 7,
   "metadata": {},
   "outputs": [],
   "source": [
    "global_step = tf.Variable(0., name='global_step', trainable=False)\n",
    "learning_rate = tf.train.exponential_decay(1e-3, global_step, 1000, 0.96, staircase=True)\n",
    "optimizer = tf.train.AdamOptimizer(learning_rate=learning_rate)\n",
    "train_op = optimizer.minimize(loss, global_step=global_step)\n",
    "graph = tf.get_default_graph()"
   ]
  },
  {
   "cell_type": "markdown",
   "metadata": {},
   "source": [
    "The training loop described in Algorithm $1$."
   ]
  },
  {
   "cell_type": "code",
   "execution_count": 8,
   "metadata": {},
   "outputs": [
    {
     "name": "stdout",
     "output_type": "stream",
     "text": [
      "Step: 0 / 5000, Loss: -82.97789764404297, Acceptance sample: 0.8837062120437622, LR: 0.0010000000474974513\n",
      "Step: 100 / 5000, Loss: -187.12806701660156, Acceptance sample: 0.785759449005127, LR: 0.0010000000474974513\n",
      "Step: 200 / 5000, Loss: -577.3759765625, Acceptance sample: 0.581989586353302, LR: 0.0010000000474974513\n",
      "Step: 300 / 5000, Loss: -4376.876953125, Acceptance sample: 0.4185389578342438, LR: 0.0010000000474974513\n",
      "Step: 400 / 5000, Loss: -4661.296875, Acceptance sample: 0.3646477460861206, LR: 0.0010000000474974513\n",
      "Step: 500 / 5000, Loss: -6446.947265625, Acceptance sample: 0.4028394818305969, LR: 0.0010000000474974513\n",
      "Step: 600 / 5000, Loss: -8722.525390625, Acceptance sample: 0.41530007123947144, LR: 0.0010000000474974513\n",
      "Step: 700 / 5000, Loss: -7047.8154296875, Acceptance sample: 0.3582097291946411, LR: 0.0010000000474974513\n",
      "Step: 800 / 5000, Loss: -6040.0263671875, Acceptance sample: 0.37882328033447266, LR: 0.0010000000474974513\n",
      "Step: 900 / 5000, Loss: -9253.76171875, Acceptance sample: 0.39021536707878113, LR: 0.0010000000474974513\n",
      "Step: 1000 / 5000, Loss: -6970.34228515625, Acceptance sample: 0.4229404032230377, LR: 0.0009600000339560211\n",
      "Step: 1100 / 5000, Loss: -6964.81982421875, Acceptance sample: 0.3387041985988617, LR: 0.0009600000339560211\n",
      "Step: 1200 / 5000, Loss: -8511.3681640625, Acceptance sample: 0.409885972738266, LR: 0.0009600000339560211\n",
      "Step: 1300 / 5000, Loss: -8611.9384765625, Acceptance sample: 0.4297731816768646, LR: 0.0009600000339560211\n",
      "Step: 1400 / 5000, Loss: -7326.51025390625, Acceptance sample: 0.39994803071022034, LR: 0.0009600000339560211\n",
      "Step: 1500 / 5000, Loss: -7118.03955078125, Acceptance sample: 0.40204063057899475, LR: 0.0009600000339560211\n",
      "Step: 1600 / 5000, Loss: -8013.1455078125, Acceptance sample: 0.4360416531562805, LR: 0.0009600000339560211\n",
      "Step: 1700 / 5000, Loss: -9560.908203125, Acceptance sample: 0.4301302433013916, LR: 0.0009600000339560211\n",
      "Step: 1800 / 5000, Loss: -8821.3154296875, Acceptance sample: 0.41941216588020325, LR: 0.0009600000339560211\n",
      "Step: 1900 / 5000, Loss: -9186.583984375, Acceptance sample: 0.36966803669929504, LR: 0.0009600000339560211\n",
      "Step: 2000 / 5000, Loss: -8661.720703125, Acceptance sample: 0.4002678692340851, LR: 0.0009216000325977802\n",
      "Step: 2100 / 5000, Loss: -8589.80859375, Acceptance sample: 0.4228757619857788, LR: 0.0009216000325977802\n",
      "Step: 2200 / 5000, Loss: -8300.88671875, Acceptance sample: 0.3936382234096527, LR: 0.0009216000325977802\n",
      "Step: 2300 / 5000, Loss: -8923.6318359375, Acceptance sample: 0.3746749460697174, LR: 0.0009216000325977802\n",
      "Step: 2400 / 5000, Loss: -9634.482421875, Acceptance sample: 0.4078497290611267, LR: 0.0009216000325977802\n",
      "Step: 2500 / 5000, Loss: -9886.6259765625, Acceptance sample: 0.37877413630485535, LR: 0.0009216000325977802\n",
      "Step: 2600 / 5000, Loss: -8050.455078125, Acceptance sample: 0.37937113642692566, LR: 0.0009216000325977802\n",
      "Step: 2700 / 5000, Loss: -7781.2978515625, Acceptance sample: 0.3584391474723816, LR: 0.0009216000325977802\n",
      "Step: 2800 / 5000, Loss: -8694.142578125, Acceptance sample: 0.3985615074634552, LR: 0.0009216000325977802\n",
      "Step: 2900 / 5000, Loss: -9035.1005859375, Acceptance sample: 0.3595082759857178, LR: 0.0009216000325977802\n",
      "Step: 3000 / 5000, Loss: -10608.5986328125, Acceptance sample: 0.44035080075263977, LR: 0.000884735956788063\n",
      "Step: 3100 / 5000, Loss: -9103.8330078125, Acceptance sample: 0.4068982005119324, LR: 0.000884735956788063\n",
      "Step: 3200 / 5000, Loss: -10762.681640625, Acceptance sample: 0.48029059171676636, LR: 0.000884735956788063\n",
      "Step: 3300 / 5000, Loss: -10256.1357421875, Acceptance sample: 0.3779982328414917, LR: 0.000884735956788063\n",
      "Step: 3400 / 5000, Loss: -9785.708984375, Acceptance sample: 0.3921241760253906, LR: 0.000884735956788063\n",
      "Step: 3500 / 5000, Loss: -10116.32421875, Acceptance sample: 0.411527544260025, LR: 0.000884735956788063\n",
      "Step: 3600 / 5000, Loss: -8313.5556640625, Acceptance sample: 0.4543946385383606, LR: 0.000884735956788063\n",
      "Step: 3700 / 5000, Loss: -8705.357421875, Acceptance sample: 0.4180445075035095, LR: 0.000884735956788063\n",
      "Step: 3800 / 5000, Loss: -10600.4287109375, Acceptance sample: 0.40974152088165283, LR: 0.000884735956788063\n",
      "Step: 3900 / 5000, Loss: -9125.455078125, Acceptance sample: 0.3589848577976227, LR: 0.000884735956788063\n",
      "Step: 4000 / 5000, Loss: -8954.55859375, Acceptance sample: 0.40782034397125244, LR: 0.0008493465138599277\n",
      "Step: 4100 / 5000, Loss: -8699.015625, Acceptance sample: 0.41130951046943665, LR: 0.0008493465138599277\n",
      "Step: 4200 / 5000, Loss: -11149.8896484375, Acceptance sample: 0.44462263584136963, LR: 0.0008493465138599277\n",
      "Step: 4300 / 5000, Loss: -9739.24609375, Acceptance sample: 0.38691219687461853, LR: 0.0008493465138599277\n",
      "Step: 4400 / 5000, Loss: -9198.6552734375, Acceptance sample: 0.39987239241600037, LR: 0.0008493465138599277\n",
      "Step: 4500 / 5000, Loss: -9638.6640625, Acceptance sample: 0.3620007336139679, LR: 0.0008493465138599277\n",
      "Step: 4600 / 5000, Loss: -9604.0849609375, Acceptance sample: 0.4458349347114563, LR: 0.0008493465138599277\n",
      "Step: 4700 / 5000, Loss: -10601.07421875, Acceptance sample: 0.4584222435951233, LR: 0.0008493465138599277\n",
      "Step: 4800 / 5000, Loss: -10231.79296875, Acceptance sample: 0.38158270716667175, LR: 0.0008493465138599277\n",
      "Step: 4900 / 5000, Loss: -10240.681640625, Acceptance sample: 0.4457939863204956, LR: 0.0008493465138599277\n"
     ]
    }
   ],
   "source": [
    "n_steps = 5000\n",
    "n_samples = 200\n",
    "\n",
    "samples = np.random.randn(n_samples, x_dim)\n",
    "\n",
    "sess = tf.Session()\n",
    "sess.run(tf.global_variables_initializer())\n",
    "\n",
    "for t in range(n_steps):\n",
    "    _, loss_, samples, px_, lr_ = sess.run([\n",
    "        train_op,\n",
    "        loss,\n",
    "        output[0],\n",
    "        px,\n",
    "        learning_rate,\n",
    "    ], {x: samples})\n",
    "\n",
    "    if t % 100 == 0:\n",
    "        print(\"Step: {} / {}, Loss: {}, Acceptance sample: {}, LR: {}\".format(t, n_steps, loss_, np.mean(px_), lr_))"
   ]
  },
  {
   "cell_type": "markdown",
   "metadata": {},
   "source": [
    "After training, we generate $200$ chains for $2000$ steps for evaluation purposes."
   ]
  },
  {
   "cell_type": "code",
   "execution_count": 9,
   "metadata": {},
   "outputs": [],
   "source": [
    "graph = tf.get_default_graph()\n",
    "samples = distribution.get_samples(n=n_samples)\n",
    "final_samples = []\n",
    "\n",
    "for t in range(2000):\n",
    "    final_samples.append(np.copy(samples))\n",
    "\n",
    "    feed_dict = {\n",
    "        x: samples,\n",
    "    }\n",
    "\n",
    "    samples = sess.run(output[0], feed_dict)"
   ]
  },
  {
   "cell_type": "markdown",
   "metadata": {},
   "source": [
    "We compute the HMC chains with **auto-correlation spectrums** as well."
   ]
  },
  {
   "cell_type": "code",
   "execution_count": 10,
   "metadata": {},
   "outputs": [],
   "source": [
    "L2HMC_samples = np.array(final_samples)\n",
    "global graph\n",
    "with graph.as_default():\n",
    "    HMC_samples_1 = get_hmc_samples(2, 0.1, distribution.get_energy_function(), sess, steps=2000, samples=samples)\n",
    "    HMC_samples_2 = get_hmc_samples(2, 0.15, distribution.get_energy_function(), sess, steps=2000, samples=samples)\n",
    "    HMC_samples_3 = get_hmc_samples(2, 0.2, distribution.get_energy_function(), sess, steps=2000, samples=samples)"
   ]
  },
  {
   "cell_type": "code",
   "execution_count": 11,
   "metadata": {},
   "outputs": [],
   "source": [
    "scale = np.sqrt(np.trace(cov))\n",
    "L2HMC = acl_spectrum(L2HMC_samples, scale=scale)\n",
    "HMC1 = acl_spectrum(HMC_samples_1, scale=scale)\n",
    "HMC2 = acl_spectrum(HMC_samples_2, scale=scale)\n",
    "HMC3 = acl_spectrum(HMC_samples_3, scale=scale)"
   ]
  },
  {
   "cell_type": "markdown",
   "metadata": {},
   "source": [
    "We can plot auto-correlation."
   ]
  },
  {
   "cell_type": "code",
   "execution_count": 12,
   "metadata": {},
   "outputs": [
    {
     "data": {
      "image/png": "[encoded data removed]",
      "text/plain": [
       "<Figure size 432x288 with 1 Axes>"
      ]
     },
     "metadata": {
      "needs_background": "light"
     },
     "output_type": "display_data"
    }
   ],
   "source": [
    "xaxis = 10 * np.arange(300)\n",
    "plt.plot(xaxis, L2HMC[:300], label='L2HMC')\n",
    "plt.plot(xaxis, HMC1[:300], label='HMC $\\epsilon=0.1$')\n",
    "plt.plot(xaxis, HMC2[:300], label='HMC $\\epsilon=0.15$')\n",
    "plt.plot(xaxis, HMC3[:300], label='HMC $\\epsilon=0.2$')\n",
    "plt.ylabel('Auto-correlation')\n",
    "plt.xlabel('Gradient Computations')\n",
    "plt.legend()\n",
    "plt.show()"
   ]
  },
  {
   "cell_type": "markdown",
   "metadata": {},
   "source": [
    "We now compute the **Effective Sample Size** (ESS)."
   ]
  },
  {
   "cell_type": "code",
   "execution_count": 13,
   "metadata": {},
   "outputs": [
    {
     "name": "stdout",
     "output_type": "stream",
     "text": [
      "ESS L2HMC: 0.2792500951892557.2e -- ESS HMC: 0.005475897675713488.2e -- Ratio: 50.996222304842554\n"
     ]
    }
   ],
   "source": [
    "print(\"ESS L2HMC: {}.2e -- ESS HMC: {}.2e -- Ratio: {}\".format(ESS(L2HMC), ESS(HMC2), ESS(L2HMC) / ESS(HMC2)))"
   ]
  },
  {
   "cell_type": "markdown",
   "metadata": {},
   "source": [
    "We can visualize a single chain of L2HMC for $50$ time steps."
   ]
  },
  {
   "cell_type": "code",
   "execution_count": 14,
   "metadata": {},
   "outputs": [
    {
     "data": {
      "image/png": "[encoded data removed]",
      "text/plain": [
       "<Figure size 432x288 with 1 Axes>"
      ]
     },
     "metadata": {
      "needs_background": "light"
     },
     "output_type": "display_data"
    }
   ],
   "source": [
    "plt.scatter(S[:, 0], S[:, 1])\n",
    "plt.plot(L2HMC_samples[:200, 1, 0], L2HMC_samples[:200, 1, 1], color='orange', marker='o', alpha=0.8, label = 'L2HMC')\n",
    "plt.plot(HMC_samples_3[:200, 1, 0], HMC_samples_3[:200, 1, 1], color='red', marker='o', alpha=0.8, label = 'HMC $\\epsilon=0.2$')\n",
    "plt.title('Strongly correlated  Gaussian Sample Chain')\n",
    "plt.legend()\n",
    "plt.show()"
   ]
  }
 ],
 "metadata": {
  "kernelspec": {
   "display_name": "Python 3",
   "language": "python",
   "name": "python3"
  },
  "language_info": {
   "codemirror_mode": {
    "name": "ipython",
    "version": 3
   },
   "file_extension": ".py",
   "mimetype": "text/x-python",
   "name": "python",
   "nbconvert_exporter": "python",
   "pygments_lexer": "ipython3",
   "version": "3.8.10"
  }
 },
 "nbformat": 4,
 "nbformat_minor": 2
}
